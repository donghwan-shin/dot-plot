{
 "cells": [
  {
   "cell_type": "markdown",
   "source": [
    "# Let's Draw Dot Plots\n",
    "We will draw a dot plot using an example file (example.txt)."
   ],
   "metadata": {
    "collapsed": false
   },
   "id": "9edbe7f7b56087de"
  },
  {
   "cell_type": "code",
   "outputs": [],
   "source": [
    "# print the example file content\n",
    "with open('example.txt', 'r') as f:\n",
    "    for line in f:\n",
    "        print(line.strip())"
   ],
   "metadata": {
    "collapsed": false
   },
   "id": "5cdbbcaebd212821",
   "execution_count": null
  },
  {
   "cell_type": "raw",
   "source": [
    "The first thing we needd to do is to convert the lines into entities (alphabet characters).\n",
    "To be general enough, let's use 'e1', 'e2', ..., to capture unique entities."
   ],
   "metadata": {
    "collapsed": false
   },
   "id": "d8b28262f69f3a4e"
  },
  {
   "cell_type": "code",
   "outputs": [],
   "source": [
    "entity_map = {}\n",
    "index = 1\n",
    "sequence = []\n",
    "with open('example.txt', 'r') as f:\n",
    "    for line in f:\n",
    "        line = line.strip()  # simple normalisation\n",
    "        if line:  # ignore empty lines\n",
    "            if line.startswith(\"def\"):\n",
    "                continue # ignore function headers\n",
    "            # convert a new line into a character\n",
    "            if line not in entity_map.keys():\n",
    "                entity_map[line] = f'e{index}'\n",
    "                index += 1\n",
    "            \n",
    "            # append the converted character\n",
    "            sequence.append(entity_map[line])"
   ],
   "metadata": {
    "collapsed": false
   },
   "id": "6088ed144e37e344",
   "execution_count": null
  },
  {
   "cell_type": "code",
   "outputs": [],
   "source": [
    "entity_map"
   ],
   "metadata": {
    "collapsed": false
   },
   "id": "caa779d198f9c9e0",
   "execution_count": null
  },
  {
   "cell_type": "code",
   "outputs": [],
   "source": [
    "sequence"
   ],
   "metadata": {
    "collapsed": false
   },
   "id": "37844d0489a4e87e",
   "execution_count": null
  },
  {
   "cell_type": "markdown",
   "source": [
    "We are ready to draw a dot plot using the converted sequence."
   ],
   "metadata": {
    "collapsed": false
   },
   "id": "1fabe2815739ef63"
  },
  {
   "cell_type": "code",
   "outputs": [],
   "source": [
    "# Create a square matrix for the plot\n",
    "n = len(sequence)\n",
    "matrix = [[' ' for _ in range(n)] for _ in range(n)]\n",
    "  \n",
    "for i in range(n):\n",
    "    for j in range(n):\n",
    "        if sequence[i] == sequence[j]:\n",
    "            matrix[i][j] = '*'\n",
    "\n",
    "matrix"
   ],
   "metadata": {
    "collapsed": false
   },
   "id": "2017c38dd69b5eda",
   "execution_count": null
  },
  {
   "cell_type": "code",
   "outputs": [],
   "source": [
    "# print a dot plot\n",
    "for i in range(-1, n):\n",
    "    for j in range(-1, n):\n",
    "        if i == -1:\n",
    "            if j == -1:\n",
    "                print('', end='\\t')\n",
    "            else:\n",
    "                print(sequence[j], end='\\t')\n",
    "        else:\n",
    "            if j == -1:\n",
    "                print(sequence[i], end='\\t')\n",
    "            else:\n",
    "                print(matrix[i][j], end='\\t')\n",
    "    print()"
   ],
   "metadata": {
    "collapsed": false
   },
   "id": "bb88045a7c59d4d2",
   "execution_count": null
  }
 ],
 "metadata": {
  "kernelspec": {
   "display_name": "Python 3",
   "language": "python",
   "name": "python3"
  },
  "language_info": {
   "codemirror_mode": {
    "name": "ipython",
    "version": 2
   },
   "file_extension": ".py",
   "mimetype": "text/x-python",
   "name": "python",
   "nbconvert_exporter": "python",
   "pygments_lexer": "ipython2",
   "version": "2.7.6"
  }
 },
 "nbformat": 4,
 "nbformat_minor": 5
}
